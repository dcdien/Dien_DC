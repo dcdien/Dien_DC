{
 "cells": [
  {
   "attachments": {},
   "cell_type": "markdown",
   "metadata": {},
   "source": [
    "## Import cac th vien"
   ]
  },
  {
   "cell_type": "code",
   "execution_count": 1,
   "metadata": {},
   "outputs": [],
   "source": [
    "from datetime import datetime, timedelta\n",
    "import pandas as pd\n",
    "import glob\n",
    "import os\n",
    "from pathlib import Path\n",
    "from xlwings.constants import AutoFillType\n",
    "from main_function import convert_string"
   ]
  },
  {
   "cell_type": "code",
   "execution_count": 2,
   "metadata": {},
   "outputs": [],
   "source": [
    "to_day = datetime.now()\n",
    "w_num= str(datetime.strftime(datetime.now(),'%V'))\n",
    "d_thang = datetime.strftime(datetime.now(),'%m')\n",
    "d_nam = str(datetime.strftime(datetime.now(),'%Y'))\n",
    "day_of_last_week = (to_day - timedelta(days=6)).strftime('%d')\n",
    "month_of_last_week = (to_day - timedelta(days=6)).strftime('%m')\n",
    "# print(f'tuần {w_num} thang {d_thang} năm {d_nam}'\n"
   ]
  },
  {
   "attachments": {},
   "cell_type": "markdown",
   "metadata": {},
   "source": [
    "# Cách 2 để lấy week num\n",
    "\n",
    "to_day1 = datetime.today()\n",
    "w_num2 = to_day1.isocalendar().week #cach nay cung duoc\n",
    "w_num2 \n"
   ]
  },
  {
   "cell_type": "markdown",
   "metadata": {},
   "source": []
  },
  {
   "cell_type": "code",
   "execution_count": 3,
   "metadata": {},
   "outputs": [],
   "source": [
    "ddd = input('nhap duong dan toi folder chua file bao cao che bien')\n",
    "bao_cao = r'D:\\1 Workbench\\0 Code_bc tuan\\BC_chebien.xlsx'"
   ]
  },
  {
   "attachments": {},
   "cell_type": "markdown",
   "metadata": {},
   "source": [
    "## Tao tu dien doi ten giong"
   ]
  },
  {
   "cell_type": "code",
   "execution_count": 4,
   "metadata": {},
   "outputs": [],
   "source": [
    "ten = pd.read_excel(bao_cao,sheet_name='Sheet1', usecols='A:B',skiprows=1)\n",
    "ten = ten.dropna()\n",
    "ten.columns=['id','name']"
   ]
  },
  {
   "cell_type": "code",
   "execution_count": 5,
   "metadata": {},
   "outputs": [],
   "source": [
    "ten = ten.astype({'id':'str','name':'str'})"
   ]
  },
  {
   "cell_type": "code",
   "execution_count": 6,
   "metadata": {},
   "outputs": [],
   "source": [
    "id = ten['id'].to_list()\n",
    "name = ten['name'].to_list()\n",
    "name_dict = dict(zip(id, name))\n"
   ]
  },
  {
   "attachments": {},
   "cell_type": "markdown",
   "metadata": {},
   "source": [
    "## Doc du lieu vao data frame"
   ]
  },
  {
   "cell_type": "code",
   "execution_count": 7,
   "metadata": {},
   "outputs": [],
   "source": [
    "duong_dan = Path(ddd)\n",
    "\n",
    "# ex_file = glob.glob(os.path.join(duong_dan, \"*.xlsx\"))\n",
    "ex_file = glob.glob(os.path.join(duong_dan,'*.xls*'))"
   ]
  },
  {
   "cell_type": "code",
   "execution_count": 8,
   "metadata": {},
   "outputs": [],
   "source": [
    "df_file = []\n"
   ]
  },
  {
   "cell_type": "code",
   "execution_count": 9,
   "metadata": {},
   "outputs": [],
   "source": [
    "# lap qua tat ca cac file excel\n",
    "for f in ex_file:\n",
    "    if f.split(\"\\\\\")[-1] != \"data_out_put.xlsx\":\n",
    "        df = pd.read_excel(f, sheet_name='data',converters={'ngay_che_bien':str,'ngay_nhap_kho ':str})\n",
    "        df_file.append(df)\n",
    "        # see pd.concat documentation for more info\n",
    "\n",
    "    # write DataFrame to an excel sheet\n",
    "    # appended_data.to_excel('appended.xls)\n",
    "        # print('Location:', f)\n",
    "        # print('File name:', f.split(\"\\\\\")[-1])\n",
    "        # print('Content:')\n",
    "        # display(df)\n",
    "    data = pd.concat(df_file,axis=0, ignore_index=True)\n",
    "    "
   ]
  },
  {
   "cell_type": "code",
   "execution_count": 10,
   "metadata": {},
   "outputs": [],
   "source": [
    "data =data.dropna(subset =['Ten_giong'])"
   ]
  },
  {
   "cell_type": "code",
   "execution_count": 11,
   "metadata": {},
   "outputs": [],
   "source": [
    "data['ID'] = [s.strip()[-10:][3:5] for s in data['MSL']]"
   ]
  },
  {
   "cell_type": "code",
   "execution_count": 12,
   "metadata": {},
   "outputs": [],
   "source": [
    "data['MSL'] = [s.replace('Đ', 'D') for s in data['MSL']]"
   ]
  },
  {
   "cell_type": "code",
   "execution_count": 13,
   "metadata": {},
   "outputs": [],
   "source": [
    "data['Ten_giong'] = data['Ten_giong'].apply(convert_string)"
   ]
  },
  {
   "cell_type": "markdown",
   "metadata": {},
   "source": [
    "# nhom"
   ]
  },
  {
   "cell_type": "code",
   "execution_count": 14,
   "metadata": {},
   "outputs": [],
   "source": [
    "gk = data.groupby(['NM','Ten_giong'], group_keys=False).agg({'Ten_giong':'count','kl_truoc_che_bien':'sum','kl_thanh_pham':'sum','klpp1':'sum','kl_pp2':'sum','kl_pp3':'sum','kl_hao_hut':'sum'})\n"
   ]
  },
  {
   "cell_type": "code",
   "execution_count": 15,
   "metadata": {},
   "outputs": [],
   "source": [
    "gk['TL_thanh_pham'] = gk['kl_thanh_pham']/gk['kl_truoc_che_bien']*100\n"
   ]
  },
  {
   "cell_type": "code",
   "execution_count": 16,
   "metadata": {},
   "outputs": [],
   "source": [
    "gk['TL_hao_hut'] = gk['kl_hao_hut']/gk['kl_truoc_che_bien']*100"
   ]
  },
  {
   "cell_type": "code",
   "execution_count": 17,
   "metadata": {},
   "outputs": [],
   "source": [
    "gk = gk.reindex(columns=['Ten_giong','kl_truoc_che_bien', 'kl_thanh_pham', 'TL_thanh_pham',\n",
    "       'klpp1', 'kl_pp2', 'kl_pp3', 'kl_hao_hut', 'TL_hao_hut'])"
   ]
  },
  {
   "cell_type": "code",
   "execution_count": 18,
   "metadata": {},
   "outputs": [],
   "source": [
    "gk.rename(columns={'Ten_giong':'so_lo'}, inplace=True)"
   ]
  },
  {
   "cell_type": "code",
   "execution_count": 19,
   "metadata": {},
   "outputs": [
    {
     "data": {
      "text/plain": [
       "Index(['so_lo', 'kl_truoc_che_bien', 'kl_thanh_pham', 'TL_thanh_pham', 'klpp1',\n",
       "       'kl_pp2', 'kl_pp3', 'kl_hao_hut', 'TL_hao_hut'],\n",
       "      dtype='object')"
      ]
     },
     "execution_count": 19,
     "metadata": {},
     "output_type": "execute_result"
    }
   ],
   "source": [
    "gk.columns"
   ]
  },
  {
   "cell_type": "code",
   "execution_count": 20,
   "metadata": {},
   "outputs": [],
   "source": [
    "gk1 =gk.reset_index(level=['NM','Ten_giong'])\n",
    "gk1['stt'] =gk1['NM'].copy()"
   ]
  },
  {
   "cell_type": "code",
   "execution_count": 21,
   "metadata": {},
   "outputs": [],
   "source": [
    "NM = ['Định Thành','Tà Đảnh','Lương An Trà','Tân Hồng','Động Cát']\n",
    "ID_NM = [1,2,3,4,5]\n",
    "stt_dic = dict(zip(NM, ID_NM))"
   ]
  },
  {
   "cell_type": "code",
   "execution_count": 22,
   "metadata": {},
   "outputs": [],
   "source": [
    "gk1['stt'] =gk1['stt'].map(stt_dic)"
   ]
  },
  {
   "cell_type": "code",
   "execution_count": 23,
   "metadata": {},
   "outputs": [],
   "source": [
    "gk1 = gk1.sort_values('stt')"
   ]
  },
  {
   "attachments": {},
   "cell_type": "markdown",
   "metadata": {},
   "source": [
    "# Ghi data vao file excel mau bao cao"
   ]
  },
  {
   "cell_type": "code",
   "execution_count": 24,
   "metadata": {},
   "outputs": [],
   "source": [
    "data.columns = ['STT', 'NM', 'Ten_giong', 'Cap giong', 'MSL', 'ngay_nhap_kho',\n",
    "       'ngay_che_bien', 'kl_truoc_che_bien', 'kl_thanh_pham', 'TiLe_TP',\n",
    "       'klpp1', 'tl_pp1', 'kl_pp2', 'tl_pp2', 'kl_pp3', 'tl_pp3', 'kl_hao_hut',\n",
    "       'tl_hao_hut', 'note', 'WEEK', 'month','ID']"
   ]
  },
  {
   "cell_type": "code",
   "execution_count": 25,
   "metadata": {},
   "outputs": [],
   "source": [
    "out_put = os.path.join(duong_dan,\"data_out_put.xlsx\")\n"
   ]
  },
  {
   "cell_type": "code",
   "execution_count": 26,
   "metadata": {},
   "outputs": [],
   "source": [
    "import xlwings as xw"
   ]
  },
  {
   "cell_type": "code",
   "execution_count": 27,
   "metadata": {},
   "outputs": [],
   "source": [
    "wb =xw.Book(\"BC_chebien.xlsx\")"
   ]
  },
  {
   "cell_type": "code",
   "execution_count": 28,
   "metadata": {},
   "outputs": [],
   "source": [
    "sht = wb.sheets('data')"
   ]
  },
  {
   "cell_type": "code",
   "execution_count": 29,
   "metadata": {},
   "outputs": [],
   "source": [
    "# lr = wb.sheets('data').range('A' + str(wb.sheets[0].cells.last_cell.row)).end('up').row\n",
    "lr = sht.range('A' + str(wb.sheets[0].cells.last_cell.row)).end('up').row +1\n",
    "lr2 = wb.sheets('Sumary').range('E' + str(wb.sheets[1].cells.last_cell.row)).end('up').row +2"
   ]
  },
  {
   "cell_type": "code",
   "execution_count": 31,
   "metadata": {},
   "outputs": [],
   "source": [
    "wb.sheets('Sumary').range(f'A{lr2} : O80').clear()"
   ]
  },
  {
   "cell_type": "code",
   "execution_count": 32,
   "metadata": {},
   "outputs": [],
   "source": [
    "wb.sheets('Sumary').range(f'B{lr2}').options(pd.DataFrame, index=False).value = gk1"
   ]
  },
  {
   "cell_type": "code",
   "execution_count": 33,
   "metadata": {},
   "outputs": [],
   "source": [
    "sht.range(f'3:{lr}').delete()"
   ]
  },
  {
   "cell_type": "code",
   "execution_count": 34,
   "metadata": {},
   "outputs": [],
   "source": [
    "sht.range('a3').value = data.iloc[:,1:]"
   ]
  },
  {
   "cell_type": "code",
   "execution_count": 35,
   "metadata": {},
   "outputs": [],
   "source": [
    "sht.range('3:3').delete()"
   ]
  },
  {
   "cell_type": "code",
   "execution_count": 36,
   "metadata": {},
   "outputs": [],
   "source": [
    "data.to_excel(out_put)"
   ]
  },
  {
   "cell_type": "code",
   "execution_count": 37,
   "metadata": {},
   "outputs": [
    {
     "data": {
      "text/plain": [
       "16"
      ]
     },
     "execution_count": 37,
     "metadata": {},
     "output_type": "execute_result"
    }
   ],
   "source": [
    "lr3 = sht[f'A{sht.cells.last_cell.row}'].end('up').row\n",
    "lr3"
   ]
  },
  {
   "cell_type": "code",
   "execution_count": 38,
   "metadata": {},
   "outputs": [
    {
     "data": {
      "text/plain": [
       "True"
      ]
     },
     "execution_count": 38,
     "metadata": {},
     "output_type": "execute_result"
    }
   ],
   "source": [
    "\n",
    "sht['j2'].api.AutoFill(sht[f'j2:j{lr3}'].api, AutoFillType.xlFillDefault)"
   ]
  },
  {
   "cell_type": "code",
   "execution_count": 39,
   "metadata": {},
   "outputs": [
    {
     "data": {
      "text/plain": [
       "True"
      ]
     },
     "execution_count": 39,
     "metadata": {},
     "output_type": "execute_result"
    }
   ],
   "source": [
    "sht['L2'].api.AutoFill(sht[f'L2:L{lr3}'].api, AutoFillType.xlFillDefault)\n",
    "sht['N2'].api.AutoFill(sht[f'N2:N{lr3}'].api, AutoFillType.xlFillDefault)\n",
    "sht['P2:R2'].api.AutoFill(sht[f'P2:R{lr3}'].api, AutoFillType.xlFillDefault)\n",
    "sht['W2:X2'].api.AutoFill(sht[f'W2:X{lr3}'].api, AutoFillType.xlFillDefault)"
   ]
  },
  {
   "cell_type": "code",
   "execution_count": 40,
   "metadata": {},
   "outputs": [],
   "source": [
    "sht.range(f't2:u{lr3}').clear()"
   ]
  },
  {
   "cell_type": "code",
   "execution_count": 41,
   "metadata": {},
   "outputs": [],
   "source": [
    "sht.range(f't3:t{lr3}').value = 'W'+ w_num"
   ]
  },
  {
   "cell_type": "code",
   "execution_count": 42,
   "metadata": {},
   "outputs": [],
   "source": [
    "sht.range(f'u3:u{lr3}').value = d_thang"
   ]
  },
  {
   "cell_type": "code",
   "execution_count": 43,
   "metadata": {},
   "outputs": [],
   "source": [
    "my_txt = f'Tuần {w_num} ({day_of_last_week}-{month_of_last_week} đến {to_day.day}-{d_thang})'\n"
   ]
  },
  {
   "cell_type": "code",
   "execution_count": 44,
   "metadata": {},
   "outputs": [],
   "source": [
    "# print(f'Tuần {w_num} (từ {day_of_last_week}-{d_thang} đến {to_day.day}-{d_thang})')"
   ]
  },
  {
   "cell_type": "code",
   "execution_count": 45,
   "metadata": {},
   "outputs": [],
   "source": [
    "wb.sheets('BC_THEO NM').range('a6').value = my_txt"
   ]
  },
  {
   "attachments": {},
   "cell_type": "markdown",
   "metadata": {},
   "source": []
  },
  {
   "cell_type": "markdown",
   "metadata": {},
   "source": [
    "\n",
    "l1 = data['ID'].unique()\n",
    "m = len(l1)"
   ]
  },
  {
   "cell_type": "markdown",
   "metadata": {},
   "source": [
    "\n",
    "wb.sheets[3].range(\"b9:b49\").clear()"
   ]
  },
  {
   "cell_type": "markdown",
   "metadata": {},
   "source": [
    "wb.sheets[3].range(\"b9\").value = l1.reshape(m,1)"
   ]
  },
  {
   "cell_type": "markdown",
   "metadata": {},
   "source": [
    "n = m+8\n",
    "wb.sheets[3].range('C9:N9').api.AutoFill(wb.sheets[3].range(f'C9:N{n}').api, AutoFillType.xlFillDefault)"
   ]
  },
  {
   "cell_type": "code",
   "execution_count": 46,
   "metadata": {},
   "outputs": [],
   "source": [
    "wb.save()"
   ]
  },
  {
   "cell_type": "code",
   "execution_count": 47,
   "metadata": {},
   "outputs": [
    {
     "name": "stdout",
     "output_type": "stream",
     "text": [
      "Done\n"
     ]
    }
   ],
   "source": [
    "print('Done')"
   ]
  }
 ],
 "metadata": {
  "kernelspec": {
   "display_name": "Python 3.11.0 64-bit",
   "language": "python",
   "name": "python3"
  },
  "language_info": {
   "codemirror_mode": {
    "name": "ipython",
    "version": 3
   },
   "file_extension": ".py",
   "mimetype": "text/x-python",
   "name": "python",
   "nbconvert_exporter": "python",
   "pygments_lexer": "ipython3",
   "version": "3.11.4"
  },
  "orig_nbformat": 4,
  "vscode": {
   "interpreter": {
    "hash": "0b5e5dd6b81d7c985918c12477995f1720d2e7c4b354bcffdd042671b744ebf9"
   }
  }
 },
 "nbformat": 4,
 "nbformat_minor": 2
}
