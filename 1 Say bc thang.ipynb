{
 "cells": [
  {
   "cell_type": "code",
   "execution_count": null,
   "metadata": {},
   "outputs": [],
   "source": [
    "import pandas as pd\n",
    "import glob\n",
    "import os\n",
    "from pathlib import Path\n",
    "import xlwings as xw\n",
    "from xlwings.constants import AutoFillType\n",
    "from datetime import datetime, timedelta"
   ]
  },
  {
   "cell_type": "code",
   "execution_count": null,
   "metadata": {},
   "outputs": [],
   "source": [
    "to_day = datetime.now()\n",
    "w_num= str(datetime.strftime(datetime.now(),'%V'))\n",
    "d_thang = datetime.strftime(datetime.now(),'%m')\n",
    "d_nam = str(datetime.strftime(datetime.now(),'%Y'))\n",
    "day_of_last_week = (to_day - timedelta(6)).strftime('%d')\n",
    "month_of_last_week = (to_day - timedelta(6)).strftime('%m')\n",
    "\n",
    "# print(f'tuần {w_num} thang {d_thang} năm {d_nam}'\n"
   ]
  },
  {
   "attachments": {},
   "cell_type": "markdown",
   "metadata": {},
   "source": [
    "def convert_string(string):\n",
    "    # replace Vietnamese diacritic marks with their base forms\n",
    "    string = ''.join(c for c in unicodedata.normalize('NFD', string) if unicodedata.category(c) != 'Mn')\n",
    "    # remove whitespaces and convert to lowercase\n",
    "    # string = string.replace(\" \", \"\").lower()\n",
    "    # string = string.replace(\" \", \"\").title()\n",
    "    string = string.replace(\" \", \"\").upper()\n",
    "    return string"
   ]
  },
  {
   "cell_type": "code",
   "execution_count": null,
   "metadata": {},
   "outputs": [],
   "source": [
    "ddd = input('nhap duong dan toi folder chua file say')\n",
    "# des_file = r\"C:\\Users\\dcdie\\OneDrive - LOC TROI GROUP\\01 Bao Cao Tuan -thang\\01 Bao cao\\Code_bc tuan\\01 form\\BC_say.xlsm\""
   ]
  },
  {
   "cell_type": "code",
   "execution_count": null,
   "metadata": {},
   "outputs": [],
   "source": [
    "duong_dan = Path(ddd)\n",
    "\n",
    "ex_file = glob.glob(os.path.join(duong_dan,'*.xls*'))"
   ]
  },
  {
   "cell_type": "code",
   "execution_count": null,
   "metadata": {},
   "outputs": [],
   "source": [
    "df_file = []"
   ]
  },
  {
   "cell_type": "code",
   "execution_count": null,
   "metadata": {},
   "outputs": [],
   "source": [
    "# lap qua tat ca cac file excel\n",
    "for f in ex_file:\n",
    "    if f.split(\"\\\\\")[-1] != \"data_out_put_1.xlsx\":\n",
    "        df = pd.read_excel(f, sheet_name='data', skiprows=3)\n",
    "        df.columns = ['STT', 'Ten_NM', 'Giong', 'Cap_giong', 'Ho_SX', 'Noi_ SX',\n",
    "       'Ngay_nhap_say', 'Lo_say', 'Vu_sx', 'MSL_tươi', 'KL_tuoi', 'AD_tuoi',\n",
    "       'MSL_kho', 'KL_kho', 'AD_kho', 'KL_kho_LT', 'KL(kg)4', 'Tỷ lệ (%)',\n",
    "       'KL(kg)5', 'Tỷ lệ (%)6', 'KL(kg)7', 'Tỷ lệ (%))8',\n",
    "       'Tình trạng lô giống', 'Ghi chú', 'Ngay', 'thang', 'AD duoi', 'AD tren',\n",
    "       'AD status']\n",
    "        df_file.append(df)\n",
    "       \n",
    "    data = pd.concat(df_file,axis=0, ignore_index=True)"
   ]
  },
  {
   "cell_type": "code",
   "execution_count": null,
   "metadata": {},
   "outputs": [],
   "source": [
    "data.dropna(subset =['Giong'],inplace=True )"
   ]
  },
  {
   "cell_type": "code",
   "execution_count": null,
   "metadata": {},
   "outputs": [],
   "source": [
    "data = data.loc[data['Giong']!='Giong']"
   ]
  },
  {
   "cell_type": "code",
   "execution_count": null,
   "metadata": {},
   "outputs": [],
   "source": [
    "out_put = os.path.join(duong_dan,\"data_out_put_1.xlsx\")"
   ]
  },
  {
   "cell_type": "markdown",
   "metadata": {},
   "source": [
    "# data.columns"
   ]
  },
  {
   "attachments": {},
   "cell_type": "markdown",
   "metadata": {},
   "source": [
    "with xw.App(visible=True) as app:\n",
    "    book = xw.Book(des_file)\n",
    "    sht = book.sheets('data')\n",
    "    lr = sht.range('B' + str(wb.sheets[0].cells.last_cell.row)).end('up').row\n",
    "    sht.range(f'A3:U{lr}').delete\n",
    "    # Do some stuff e.g.\n",
    "    sht[\"A6\"].value = data.iloc[:,1:]\n",
    "    book.save()\n",
    "    # book.close()\n",
    "    "
   ]
  },
  {
   "cell_type": "code",
   "execution_count": null,
   "metadata": {},
   "outputs": [],
   "source": [
    "data['fl1'] = data['Ngay_nhap_say'].apply(pd.to_datetime, errors= 'coerce', format=\"%Y-%m-%d %H:%M:%S\")"
   ]
  },
  {
   "cell_type": "code",
   "execution_count": null,
   "metadata": {},
   "outputs": [],
   "source": [
    "data['fl2'] = data['Ngay_nhap_say'].apply(pd.to_datetime, errors = 'coerce', format=\"%d.%m.%y\")"
   ]
  },
  {
   "cell_type": "code",
   "execution_count": null,
   "metadata": {},
   "outputs": [],
   "source": [
    "data['fl3'] = data['Ngay_nhap_say'].apply(pd.to_datetime, errors = 'coerce',  format=\"%d/%m/%y\")"
   ]
  },
  {
   "cell_type": "code",
   "execution_count": null,
   "metadata": {},
   "outputs": [],
   "source": [
    "data['fl1'] = data['fl1'].fillna(data['fl2']).fillna(data['fl3'])"
   ]
  },
  {
   "cell_type": "code",
   "execution_count": null,
   "metadata": {},
   "outputs": [],
   "source": [
    "data['fl1'] = data['fl1'].dt.strftime(\"%d/%m/%Y\")"
   ]
  },
  {
   "cell_type": "code",
   "execution_count": null,
   "metadata": {},
   "outputs": [],
   "source": [
    "flag = data[['Ngay_nhap_say', 'fl1']]"
   ]
  },
  {
   "cell_type": "code",
   "execution_count": null,
   "metadata": {},
   "outputs": [],
   "source": [
    "flag.to_clipboard()"
   ]
  },
  {
   "cell_type": "code",
   "execution_count": null,
   "metadata": {},
   "outputs": [],
   "source": [
    "data = data.drop(columns={'Ngay_nhap_say', 'fl2', 'fl3'})"
   ]
  },
  {
   "cell_type": "code",
   "execution_count": null,
   "metadata": {},
   "outputs": [],
   "source": [
    "# rankings_pd.rename(columns = {'test':'TEST'}, inplace = True)"
   ]
  },
  {
   "cell_type": "code",
   "execution_count": null,
   "metadata": {},
   "outputs": [],
   "source": [
    "data.rename(columns={'fl1':'Ngay_nhap_say'}, inplace= True)"
   ]
  },
  {
   "cell_type": "code",
   "execution_count": null,
   "metadata": {},
   "outputs": [],
   "source": [
    "data = data.reindex(columns=['STT', 'Ten_NM', 'Giong', 'Cap_giong', 'Ho_SX', 'Noi_ SX',\n",
    "       'Ngay_nhap_say', 'Lo_say', 'Vu_sx', 'MSL_tươi', 'KL_tuoi', 'AD_tuoi',\n",
    "       'MSL_kho', 'KL_kho', 'AD_kho', 'KL_kho_LT', 'KL(kg)4', 'Tỷ lệ (%)',\n",
    "       'KL(kg)5', 'Tỷ lệ (%)6', 'KL(kg)7', 'Tỷ lệ (%))8',\n",
    "       'Tình trạng lô giống', 'Ghi chú', 'Ngay', 'thang', 'AD duoi', 'AD tren',\n",
    "       'AD status'])"
   ]
  },
  {
   "cell_type": "code",
   "execution_count": null,
   "metadata": {},
   "outputs": [],
   "source": [
    "wb= xw.Book('BC_say.xlsm')\n",
    "sht = wb.sheets('data')"
   ]
  },
  {
   "cell_type": "code",
   "execution_count": null,
   "metadata": {},
   "outputs": [],
   "source": [
    "# sht.api.AutoFilterMode = False # Tat autofiter cua sheets, dieu kien la tieu de nam o dong dau tien cua sheets\n",
    "sht.tables['data'].show_autofilter = False # Tat autofilter cua table\n",
    "# sht.tables['data'].display_name"
   ]
  },
  {
   "cell_type": "code",
   "execution_count": null,
   "metadata": {},
   "outputs": [],
   "source": [
    "lr = sht.range('B' + str(wb.sheets[0].cells.last_cell.row)).end('up').row\n",
    "sht.range(f'6:{lr}').delete()"
   ]
  },
  {
   "cell_type": "code",
   "execution_count": null,
   "metadata": {},
   "outputs": [],
   "source": [
    "sht[\"A6\"].value = data.iloc[:,1:]\n",
    "wb.save()"
   ]
  },
  {
   "cell_type": "code",
   "execution_count": null,
   "metadata": {},
   "outputs": [],
   "source": [
    "sht.range('6:6').api.Delete()"
   ]
  },
  {
   "cell_type": "code",
   "execution_count": null,
   "metadata": {},
   "outputs": [],
   "source": [
    "data.to_excel(out_put)"
   ]
  },
  {
   "attachments": {},
   "cell_type": "markdown",
   "metadata": {},
   "source": [
    "from xlwings import Workbook\n",
    "wb = Workbook(des_file)\n",
    "wb.application.xl_app.Run(\"your_macro\")"
   ]
  },
  {
   "cell_type": "code",
   "execution_count": null,
   "metadata": {},
   "outputs": [],
   "source": [
    "lr2 = sht[f'A{sht.cells.last_cell.row}'].end('up').row"
   ]
  },
  {
   "cell_type": "code",
   "execution_count": null,
   "metadata": {},
   "outputs": [],
   "source": [
    "sht['P5:V5'].api.AutoFill(sht[f'P5:V{lr2}'].api, AutoFillType.xlFillDefault)"
   ]
  },
  {
   "cell_type": "code",
   "execution_count": null,
   "metadata": {},
   "outputs": [],
   "source": [
    "sht['AA5:AC5'].api.AutoFill(sht[f'AA5:AC{lr2}'].api, AutoFillType.xlFillDefault)"
   ]
  },
  {
   "cell_type": "code",
   "execution_count": null,
   "metadata": {},
   "outputs": [],
   "source": [
    "txt = f'Tuần {w_num} (từ {(day_of_last_week)}-{month_of_last_week} đến ngày {to_day.day}-{d_thang})'"
   ]
  },
  {
   "cell_type": "code",
   "execution_count": null,
   "metadata": {},
   "outputs": [],
   "source": [
    "wb.sheets('PT Ẩm Độ').range('A7').value = txt"
   ]
  },
  {
   "cell_type": "code",
   "execution_count": null,
   "metadata": {},
   "outputs": [],
   "source": [
    "print('da hoan thanh')"
   ]
  },
  {
   "attachments": {},
   "cell_type": "markdown",
   "metadata": {},
   "source": [
    "# Có thể bỏ qua bước này vì còn dong đầu tiên để fill công thức, do đó sau khi kiểm tra tên giống và loại bỏ dong công thức sẽ update sau\n",
    "# up_date = wb.macro('update')\n",
    "# up_date()"
   ]
  },
  {
   "cell_type": "markdown",
   "metadata": {},
   "source": []
  },
  {
   "cell_type": "markdown",
   "metadata": {},
   "source": []
  }
 ],
 "metadata": {
  "kernelspec": {
   "display_name": "Python 3.11.0 64-bit",
   "language": "python",
   "name": "python3"
  },
  "language_info": {
   "codemirror_mode": {
    "name": "ipython",
    "version": 3
   },
   "file_extension": ".py",
   "mimetype": "text/x-python",
   "name": "python",
   "nbconvert_exporter": "python",
   "pygments_lexer": "ipython3",
   "version": "3.11.4"
  },
  "orig_nbformat": 4,
  "vscode": {
   "interpreter": {
    "hash": "0b5e5dd6b81d7c985918c12477995f1720d2e7c4b354bcffdd042671b744ebf9"
   }
  }
 },
 "nbformat": 4,
 "nbformat_minor": 2
}
