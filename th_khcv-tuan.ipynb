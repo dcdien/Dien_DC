{
 "cells": [
  {
   "cell_type": "code",
   "execution_count": 1,
   "metadata": {},
   "outputs": [],
   "source": [
    "import os\n",
    "import glob\n",
    "import xlwings as xw\n",
    "from pathlib import Path\n",
    "import pandas as pd"
   ]
  },
  {
   "cell_type": "code",
   "execution_count": 2,
   "metadata": {},
   "outputs": [],
   "source": [
    "folder_path =os.getcwd()\n",
    "parent = os.path.abspath(os.path.join(folder_path, os.pardir))\n",
    "ex_file = glob.glob(os.path.join(parent,'*.xls*'))"
   ]
  },
  {
   "cell_type": "code",
   "execution_count": 3,
   "metadata": {},
   "outputs": [],
   "source": [
    "# Đường dẫn đến file Excel đích\n",
    "destination_file_path = r'D:\\1 Workbench\\2 KHCV tuan\\khac\\Form_KHT.xlsx'\n",
    "\n",
    "# Mở file Excel đích\n",
    "wb_destination = xw.Book(destination_file_path)"
   ]
  },
  {
   "cell_type": "code",
   "execution_count": 4,
   "metadata": {},
   "outputs": [],
   "source": [
    "for f in ex_file:\n",
    "    with xw.App(visible=False) as app:\n",
    "        # Mở workbook nguồn\n",
    "        wb_source = xw.Book(f)\n",
    "\n",
    "        # Lấy tên sheet trong workbook nguồn\n",
    "        sheet_name1 = \"Kết quả tuần trước\"\n",
    "        sheet_name2 = \"Kế hoạch tuần tới\"\n",
    "        sheet_name3 = \"Lịch công tác\"\n",
    "        sht_source1 = wb_source.sheets[sheet_name1]\n",
    "        sht_source2 = wb_source.sheets[sheet_name2]\n",
    "        sht_source3 = wb_source.sheets[sheet_name3]\n",
    "    \n",
    "        # Đọc dữ liệu trong sheet nguồn\n",
    "        data_range1 = sht_source1.range(f\"A6:J{sht_source1.range('a6').end('down').row}\").value\n",
    "        data_range2 = sht_source2.range(f\"A6:i{sht_source2.range('a6').end('down').row}\").value\n",
    "        last_row = sht_source3.range('A' + str (sht_source3.cells.last_cell.row)).end('up').row +1\n",
    "        data_range3 = sht_source3.range(f\"A6:i{last_row}\").value\n",
    "\n",
    "        # Định nghĩa các sheets đích\n",
    "        destination_sheet = wb_destination.sheets[0]\n",
    "        destination_sheet1 = wb_destination.sheets[1]\n",
    "        destination_sheet2 = wb_destination.sheets[2]\n",
    "         # Tính lại dòng cuối trong sheets đích\n",
    "        lr =  destination_sheet.range('A' + str (destination_sheet.cells.last_cell.row)).end('up').row +1\n",
    "        lr1 =  destination_sheet1.range('A' + str (destination_sheet1.cells.last_cell.row)).end('up').row +1\n",
    "        lr2 =  destination_sheet2.range('A' + str (destination_sheet2.cells.last_cell.row)).end('up').row +1\n",
    "         # Paste dữ liệu vào sheet đích\n",
    "        destination_sheet.range(destination_sheet.cells(lr, 1), destination_sheet.cells(lr + len(data_range1) - 1, len(data_range1[0]) - 1)).value = data_range1\n",
    "        destination_sheet1.range(destination_sheet1.cells(lr1, 1), destination_sheet1.cells(lr1 + len(data_range2) - 1, len(data_range2[0]) - 1)).value = data_range2\n",
    "        destination_sheet2.range(destination_sheet2.cells(lr2, 1), destination_sheet2.range(f'a{lr2}')).value = data_range3\n",
    "        # wb_destination.save()\n",
    "        # Đóng workbook nguồn\n",
    "        \n",
    "        wb_source.close()\n",
    "    "
   ]
  },
  {
   "cell_type": "code",
   "execution_count": 5,
   "metadata": {},
   "outputs": [],
   "source": [
    "sht = wb_destination .sheets[0]\n",
    "sht1 = wb_destination .sheets[1]\n",
    "sht12 = wb_destination .sheets[2]\n"
   ]
  },
  {
   "cell_type": "markdown",
   "metadata": {},
   "source": [
    "\n",
    "## Format sheet 1"
   ]
  },
  {
   "cell_type": "code",
   "execution_count": 6,
   "metadata": {},
   "outputs": [],
   "source": [
    "# Tìm dòng cuối \n",
    "#last_row = sht_source3.range('A' + str (sht_source3.cells.last_cell.row)).end('up').row +1"
   ]
  },
  {
   "cell_type": "code",
   "execution_count": 7,
   "metadata": {},
   "outputs": [
    {
     "name": "stdout",
     "output_type": "stream",
     "text": [
      "6\n",
      "7\n",
      "8\n",
      "9\n"
     ]
    }
   ],
   "source": [
    "for cell in sht.range(f\"c6:c{sht.range('a6').end('down').row}\"):\n",
    "   if cell.value is not None and 'Ban lãnh đạo Trung tâm' in cell.value:\n",
    "        # print(cell.address, cell.value)\n",
    "        sht.range(f\"A{cell.row}:J{cell.row}\").color = (224, 176, 132)\n",
    "        # cell.resize(1, 10).color = (224, 176, 132)\n",
    "        print(cell.row)\n",
    "# Kiem tra cac o co chua chuoi KSCL\n",
    "   if cell.value is not None and 'KSCL' in cell.value: \n",
    "        # print(cell.address, cell.value)\n",
    "        sht.range(f\"A{cell.row}:J{cell.row}\").color = (225, 230, 153)\n",
    "        # cell.resize(1, 10).color = (224, 176, 132)\n",
    "        # print(cell.row)\n",
    "   # if cell.value is not None and 'KSCL' not in cell.value and 'Ban lãnh đạo' not in cell.value:\n",
    "   if cell.value is not None and cell.value not in ['Ban lãnh đạo Trung tâm', 'Phòng KSCL GCT']:\n",
    "\n",
    "        # print(cell.address, cell.value)\n",
    "        sht.range(f\"A{cell.row}:J{cell.row}\").color = (169, 208, 142)\n",
    "\n"
   ]
  },
  {
   "cell_type": "code",
   "execution_count": 8,
   "metadata": {},
   "outputs": [],
   "source": [
    "# sht.range(f\"a6:j{sht.range('a6').end('down').row}\").font.bold = True"
   ]
  },
  {
   "cell_type": "code",
   "execution_count": 9,
   "metadata": {},
   "outputs": [],
   "source": [
    "for i in range(1 , 5):\n",
    "    sht.range(f\"a6:j{sht.range('a6').end('down').row}\").api.Borders(i).LineStyle = 1 #Borders(border_id).LineStyle = 1\n",
    "    sht.range(f\"a6:j{sht.range('a6').end('down').row}\").api.Borders(i).Weight=2"
   ]
  },
  {
   "cell_type": "code",
   "execution_count": 10,
   "metadata": {},
   "outputs": [],
   "source": [
    "sht.range(f\"a5:j{sht.range('a5').end('down').row}\").font.name = \"Cambria\"\n",
    "sht.range(f\"a5:j{sht.range('a5').end('down').row}\").font.size = 13\n",
    "# sht.used_range.font.size = 13"
   ]
  },
  {
   "cell_type": "code",
   "execution_count": 11,
   "metadata": {},
   "outputs": [],
   "source": [
    "for cell in sht.range(f\"h6:i{sht.range('e6').end('down').row}\"):\n",
    "    if cell.value is not None:\n",
    "        cell.value = str(cell.value).title()"
   ]
  },
  {
   "cell_type": "code",
   "execution_count": 12,
   "metadata": {},
   "outputs": [],
   "source": [
    "sht.range(f\"D6:E{sht.range('a6').end('down').row}\").api.HorizontalAlignment = xw.constants.HAlign.xlHAlignRight"
   ]
  },
  {
   "cell_type": "markdown",
   "metadata": {},
   "source": [
    "## Sheet 2"
   ]
  },
  {
   "cell_type": "code",
   "execution_count": 13,
   "metadata": {},
   "outputs": [],
   "source": [
    "for cell in sht1.range(f\"c6:c{sht1.range('a6').end('down').row}\"):\n",
    "   if cell.value is not None and 'Ban lãnh đạo Trung tâm' in cell.value:\n",
    "        # print(cell.address, cell.value)\n",
    "        sht1.range(f\"A{cell.row}:i{cell.row}\").color = (224, 176, 132)\n",
    "        # cell.resize(1, 10).color = (224, 176, 132)\n",
    "     #    print(cell.address, cell.value)\n",
    "# Kiem tra cac o co chua chuoi KSCL\n",
    "   if cell.value is not None and 'KSCL' in cell.value: \n",
    "        # print(cell.address, cell.value)\n",
    "        sht1.range(f\"A{cell.row}:i{cell.row}\").color = (225, 230, 153)\n",
    "        # cell.resize(1, 10).color = (224, 176, 132)\n",
    "        # print(cell.row)\n",
    "   # if cell.value is not None asnd 'KSCL' not in cell.value and 'Ban lãnh đạo' not in cell.value:\n",
    "   if cell.value is not None and cell.value not in ['Ban lãnh đạo Trung tâm', 'Phòng KSCL GCT']:\n",
    "\n",
    "        # print(cell.address, cell.value)\n",
    "        sht1.range(f\"A{cell.row}:i{cell.row}\").color = (169, 208, 142)\n"
   ]
  },
  {
   "cell_type": "code",
   "execution_count": 14,
   "metadata": {},
   "outputs": [],
   "source": [
    "for cell in sht1.range(f\"g6:h{sht.range('e6').end('down').row}\"):\n",
    "    if cell.value is not None:\n",
    "        cell.value = str(cell.value).title()"
   ]
  },
  {
   "cell_type": "code",
   "execution_count": 15,
   "metadata": {},
   "outputs": [],
   "source": [
    "# ke o\n",
    "# sht.range(f\"a6:j{sht.range('a6').end('down').row}\").font.bold = True\n",
    "for i in range(1 , 5):\n",
    "    sht1.range(f\"a6:i{sht1.range('a6').end('down').row}\").api.Borders(i).LineStyle = 1\n",
    "    sht1.range(f\"a6:i{sht1.range('a6').end('down').row}\").api.Borders(i).Weight= 2\n",
    "    sht1.range(f\"a6:i{sht1.range('a6').end('down').row}\").api.Borders(i).Color = 1 #-16776961 mã màu đổ\n"
   ]
  },
  {
   "cell_type": "code",
   "execution_count": 16,
   "metadata": {},
   "outputs": [],
   "source": [
    "sht1.range(f\"a5:i{sht1.range('a5').end('down').row}\").font.name = \"Cambria\"\n",
    "sht1.range(f\"a5:i{sht1.range('a5').end('down').row}\").font.size = 13\n",
    "# sht.used_range.font.size = 13"
   ]
  },
  {
   "cell_type": "code",
   "execution_count": 17,
   "metadata": {},
   "outputs": [],
   "source": [
    "sht1.range(f\"a5:i{sht1.range('a5').end('down').row}\").autofit()"
   ]
  },
  {
   "cell_type": "code",
   "execution_count": 18,
   "metadata": {},
   "outputs": [],
   "source": [
    "sht1.range(f\"D6:d{sht1.range('a6').end('down').row}\").api.HorizontalAlignment = xw.constants.HAlign.xlHAlignRight"
   ]
  }
 ],
 "metadata": {
  "kernelspec": {
   "display_name": "base",
   "language": "python",
   "name": "python3"
  },
  "language_info": {
   "codemirror_mode": {
    "name": "ipython",
    "version": 3
   },
   "file_extension": ".py",
   "mimetype": "text/x-python",
   "name": "python",
   "nbconvert_exporter": "python",
   "pygments_lexer": "ipython3",
   "version": "3.11.4"
  }
 },
 "nbformat": 4,
 "nbformat_minor": 2
}
