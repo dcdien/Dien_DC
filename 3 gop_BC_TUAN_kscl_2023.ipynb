{
 "cells": [
  {
   "cell_type": "code",
   "execution_count": 1,
   "metadata": {},
   "outputs": [],
   "source": [
    "import pandas as pd\n",
    "from pathlib import Path\n",
    "import os\n",
    "import glob\n",
    "import xlwings as xw\n",
    "import numpy as np"
   ]
  },
  {
   "cell_type": "code",
   "execution_count": 2,
   "metadata": {},
   "outputs": [],
   "source": [
    "duong_dan = Path(input('nhap duong dan toi folder chua file bao cao che bien'))\n",
    "# duong_dan = Path(ddd)"
   ]
  },
  {
   "cell_type": "code",
   "execution_count": 3,
   "metadata": {},
   "outputs": [],
   "source": [
    "ex_file = glob.glob(os.path.join(duong_dan,'*.xls*'))"
   ]
  },
  {
   "cell_type": "code",
   "execution_count": 4,
   "metadata": {},
   "outputs": [],
   "source": [
    "df_say = []\n",
    "df_chebien = []\n",
    "df_baoquan = []\n",
    "df_xuly = []\n",
    "df_godau = []\n",
    "df_kphop = []\n",
    "df_amdo = []\n",
    "df_chieucao = []\n",
    "df_nhietdo_kph = []\n",
    "df_3thang = []\n",
    "df_chitietxuly = []"
   ]
  },
  {
   "cell_type": "code",
   "execution_count": 5,
   "metadata": {},
   "outputs": [],
   "source": [
    "# lap qua tat ca cac file excel\n",
    "for f in ex_file:\n",
    "    if f.split(\"\\\\\")[-1] != \"data_out_put.xlsx\":\n",
    "        df1 = pd.read_excel(f, sheet_name='KSCL SAY', skiprows=7, header=None)\n",
    "        df1['To'] = f.split('\\\\')[-1].split(' ')[0]\n",
    "        df_say.append(df1)\n",
    "        #Toi kiem soat che bien\n",
    "        df2 = pd.read_excel(f, sheet_name='KSCLCB', skiprows=7, header=None)\n",
    "        df2['To'] = f.split('\\\\')[-1].split(' ')[0]\n",
    "        df_chebien.append(df2)\n",
    "        # Toi kiem soat bao quan\n",
    "        df3 = pd.read_excel(f, sheet_name='KSCLBQ', skiprows=8, header=None)\n",
    "        df3['To'] = f.split('\\\\')[-1].split(' ')[0]\n",
    "        df_baoquan.append(df3)\n",
    "        # Xử lý hàng không phù hợp\n",
    "        df4 = pd.read_excel(f, sheet_name='XL HKPH', header=None, skiprows= 7)\n",
    "        df4['To'] = f.split('\\\\')[-1].split(' ')[0]\n",
    "        df_xuly.append(df4)\n",
    "        # Nhà máy Gò Dầu\n",
    "        df5 = pd.read_excel(f, sheet_name='KSCL NMGD', skiprows=7, header=None)\n",
    "        df5['To'] = f.split('\\\\')[-1].split(' ')[0]\n",
    "        df_godau.append(df5)\n",
    "    \n",
    "    data_say = pd.concat(df_say,axis=0, ignore_index=True)\n",
    "    data_chebien = pd.concat(df_chebien,axis=0, ignore_index=True)\n",
    "    data_baoquan = pd.concat(df_baoquan,axis=0, ignore_index=True)\n",
    "    data_xuly = pd.concat(df_xuly,axis=0, ignore_index=True)\n",
    "    data_godau = pd.concat(df_godau, axis=0, ignore_index=True)"
   ]
  },
  {
   "cell_type": "code",
   "execution_count": 6,
   "metadata": {},
   "outputs": [],
   "source": [
    "data_say.dropna(subset=[1, 2], inplace=True)"
   ]
  },
  {
   "cell_type": "code",
   "execution_count": 7,
   "metadata": {},
   "outputs": [],
   "source": [
    "data_chebien.dropna(subset=[1,2], inplace=True)"
   ]
  },
  {
   "cell_type": "code",
   "execution_count": 8,
   "metadata": {},
   "outputs": [],
   "source": [
    "data_baoquan.dropna(subset=[1,2], inplace=True)"
   ]
  },
  {
   "cell_type": "code",
   "execution_count": 9,
   "metadata": {},
   "outputs": [],
   "source": [
    "data_xuly.dropna(subset=[0,1], inplace=True)"
   ]
  },
  {
   "cell_type": "code",
   "execution_count": 10,
   "metadata": {},
   "outputs": [],
   "source": [
    "data_xuly = data_xuly.loc[data_xuly[1]!='Nhà Máy SXHG']"
   ]
  },
  {
   "cell_type": "code",
   "execution_count": 11,
   "metadata": {},
   "outputs": [],
   "source": [
    "data_xuly.replace(0,np.nan, inplace=True)"
   ]
  },
  {
   "cell_type": "code",
   "execution_count": 12,
   "metadata": {},
   "outputs": [],
   "source": [
    "data_xuly = data_xuly[data_xuly.columns[0:21]]"
   ]
  },
  {
   "cell_type": "code",
   "execution_count": 13,
   "metadata": {},
   "outputs": [],
   "source": [
    "data_xuly.columns= [\"stt\",\"nha_may\",\"tron_lo\",\"kl_tron\",\"kq_tron\",\"mot\",\"kl_mot\",\"kq_mot\",\\\n",
    "    \"thuong_pham\",\"kl_tpham\",\"nguyen_nhan\",\"ha_cap\",\"kl_ha_cap\",\"nn_ha\",\"nang_date\",\"kl_nangdate\",\\\n",
    "        \"che_bien\",\"kl_chebien\",\"nn_cb\",\"note\",'to']"
   ]
  },
  {
   "cell_type": "code",
   "execution_count": 14,
   "metadata": {},
   "outputs": [],
   "source": [
    "d_xuly = data_xuly.dropna(subset=data_xuly.columns[[2,16]], how= 'all')"
   ]
  },
  {
   "cell_type": "code",
   "execution_count": 15,
   "metadata": {},
   "outputs": [],
   "source": [
    "data_xuly.dropna(subset='nha_may', inplace=True)"
   ]
  },
  {
   "cell_type": "code",
   "execution_count": 16,
   "metadata": {},
   "outputs": [],
   "source": [
    "xuly_g = data_xuly.groupby(['stt','nha_may']).agg({'tron_lo':'sum','kl_tron':'sum','kq_tron':'count','mot':'sum',\\\n",
    "                                                   'kl_mot':'sum','kq_mot':'count','thuong_pham':'sum','kl_tpham':'sum','nguyen_nhan':'count',\\\n",
    "                                                    'ha_cap':'sum','kl_ha_cap':'sum',\\\n",
    "                                                    'nn_ha':'count','nang_date':'sum','kl_nangdate':'sum','che_bien':'sum','kl_chebien':'sum',\\\n",
    "                                                    'nn_cb':'count', 'note': lambda x: \"\\n\".join(str(x) for x in data_xuly['note'])}) #,'note': lamda x: \"\\n\".join(x)"
   ]
  },
  {
   "cell_type": "code",
   "execution_count": 17,
   "metadata": {},
   "outputs": [],
   "source": [
    "data_xuly.dropna(subset=data_xuly.columns[2:-2],how='all', inplace=True)\n",
    "data_xuly.dropna(subset=data_xuly.columns[1], inplace=True)"
   ]
  },
  {
   "cell_type": "code",
   "execution_count": 18,
   "metadata": {},
   "outputs": [],
   "source": [
    "# data_xuly = data_xuly.loc[(data_xuly[2]!=0) & (data_xuly[5]!=0)&(data_xuly[8]!=0)&(data_xuly[11]!=0)\\\n",
    "#             #   &(data_xuly[14]!=0)&(data_xuly[16]!=0)]"
   ]
  },
  {
   "cell_type": "code",
   "execution_count": 19,
   "metadata": {},
   "outputs": [],
   "source": [
    "data_godau.dropna(subset=data_godau.columns[1], inplace=True)"
   ]
  },
  {
   "cell_type": "code",
   "execution_count": 20,
   "metadata": {},
   "outputs": [],
   "source": [
    "# lap qua tat ca cac file excel\n",
    "for f in ex_file:\n",
    "    if f.split(\"\\\\\")[-1] != \"data_out_put.xlsx\":\n",
    "        # Khong phu hop khac\n",
    "        df6 = pd.read_excel(f, sheet_name='KPH KHAC',skiprows=6, header=None)\n",
    "        df6['To'] = f.split('\\\\')[-1].split(' ')[0]\n",
    "        df_kphop.append(df6)\n",
    "        #Kiem soat am do sau say\n",
    "        df7 = pd.read_excel(f, sheet_name='KS AM DO SAU SAY', skiprows=8, header=None, usecols='A:K')\n",
    "        df7['To'] = f.split('\\\\')[-1].split(' ')[0]\n",
    "        df_amdo.append(df7)\n",
    "        # Kiem soat chieu cao lop lieu khong phu hop\n",
    "        df8 = pd.read_excel(f, sheet_name= 7, skiprows=5, header=None)\n",
    "        df8['To'] = f.split('\\\\')[-1].split(' ')[0]\n",
    "        df_chieucao.append(df8)\n",
    "        # Nhiet do say khong phu hop\n",
    "        df9 = pd.read_excel(f, sheet_name='NHIỆT ĐỘ SẤY', header=None)\n",
    "        df9['To'] = f.split(\"\\\\\")[-1].split(' ')[0]\n",
    "        df_nhietdo_kph.append(df9)\n",
    "        # 3 thang chua dao lo\n",
    "        df10 = pd.read_excel(f, sheet_name='3T CHUA CB+6T CHUA DAO LO ', skiprows=6, header=None)\n",
    "        df10['To'] = f.split(\"\\\\\")[-1].split(' ')[0]\n",
    "        df_3thang.append(df10)\n",
    "        # Nhà máy Gò Dầu\n",
    "        df11 = pd.read_excel(f, sheet_name='CHI TIET XU LY HKPH', skiprows=6, header=None)\n",
    "        df11['To'] = f.split(\"\\\\\")[-1].split(' ')[0]\n",
    "        df_chitietxuly.append(df11)\n",
    "        \n",
    "\n",
    "    data_kph_khac = pd.concat(df_kphop,axis=0, ignore_index=True)\n",
    "    data_amdo = pd.concat(df_amdo,axis=0, ignore_index=True)\n",
    "    data_chieucao = pd.concat(df_chieucao,axis=0, ignore_index=True)\n",
    "    data_nhietdo_kph = pd.concat(df_nhietdo_kph,axis=0, ignore_index=True)\n",
    "    data_3thang = pd.concat(df_3thang, axis=0, ignore_index=True)\n",
    "    data_chitiet = pd.concat(df_chitietxuly, axis=0, ignore_index=True)"
   ]
  },
  {
   "cell_type": "code",
   "execution_count": 21,
   "metadata": {},
   "outputs": [],
   "source": [
    "\n",
    "data_chitiet = data_chitiet.reindex(columns = [0, 1, 2, 3, 4, 5, 6, 7, 8, 9, 10,'To'])"
   ]
  },
  {
   "cell_type": "code",
   "execution_count": 22,
   "metadata": {},
   "outputs": [],
   "source": [
    "data_kph_khac.dropna(subset=data_kph_khac.columns[3], inplace=True)"
   ]
  },
  {
   "cell_type": "code",
   "execution_count": 23,
   "metadata": {},
   "outputs": [],
   "source": [
    "data_amdo.dropna(subset=data_amdo.columns[4], inplace=True)"
   ]
  },
  {
   "cell_type": "code",
   "execution_count": 24,
   "metadata": {},
   "outputs": [],
   "source": [
    "data_chieucao.dropna(subset=data_chieucao.columns[3], inplace=True)"
   ]
  },
  {
   "cell_type": "code",
   "execution_count": 25,
   "metadata": {},
   "outputs": [],
   "source": [
    "data_nhietdo_kph.dropna(subset=data_nhietdo_kph.columns[3], inplace=True)"
   ]
  },
  {
   "cell_type": "code",
   "execution_count": 26,
   "metadata": {},
   "outputs": [],
   "source": [
    "data_3thang.dropna(subset=data_3thang.columns[3], inplace=True)"
   ]
  },
  {
   "cell_type": "code",
   "execution_count": 27,
   "metadata": {},
   "outputs": [],
   "source": [
    "data_chitiet.dropna(subset=data_chitiet.columns[3], inplace=True)"
   ]
  },
  {
   "cell_type": "code",
   "execution_count": 28,
   "metadata": {},
   "outputs": [],
   "source": [
    "wb= xw.Book()\n"
   ]
  },
  {
   "cell_type": "code",
   "execution_count": 29,
   "metadata": {},
   "outputs": [],
   "source": [
    "sht_say = wb.sheets.active\n",
    "sht_say.name = \"KSCL SAY\""
   ]
  },
  {
   "cell_type": "code",
   "execution_count": 30,
   "metadata": {},
   "outputs": [],
   "source": [
    "data_say[2]=data_say[2].apply(pd.to_numeric, errors='coerce')"
   ]
  },
  {
   "cell_type": "code",
   "execution_count": 31,
   "metadata": {},
   "outputs": [],
   "source": [
    "data_say.rename(columns={0:'STT',1:'nha_may',2:'ve_sinh'}, inplace=True)"
   ]
  },
  {
   "cell_type": "code",
   "execution_count": 32,
   "metadata": {},
   "outputs": [],
   "source": [
    "data_say.sort_values(by='To', inplace=True)"
   ]
  },
  {
   "cell_type": "code",
   "execution_count": 33,
   "metadata": {},
   "outputs": [],
   "source": [
    "data_say = data_say[data_say['ve_sinh']>0]"
   ]
  },
  {
   "cell_type": "code",
   "execution_count": 34,
   "metadata": {},
   "outputs": [],
   "source": [
    "# lr = sht_say.range('B' + str(wb.sheets(\"KSCL SAY\").cells.last_cell.row)).end('up').row"
   ]
  },
  {
   "cell_type": "code",
   "execution_count": 35,
   "metadata": {},
   "outputs": [],
   "source": [
    "sht_say.range('A2').options(pd.DataFrame, index = False).value = data_say[data_say['nha_may']!='Nhà Máy SXHG']"
   ]
  },
  {
   "cell_type": "code",
   "execution_count": 36,
   "metadata": {},
   "outputs": [],
   "source": [
    "sht_chebien = wb.sheets.add('KSCL_chebien',after=wb.sheets.count)"
   ]
  },
  {
   "cell_type": "code",
   "execution_count": 37,
   "metadata": {},
   "outputs": [],
   "source": [
    "sht_chebien.range('A2').options(pd.DataFrame, index = False).value = data_chebien[data_chebien[1].str[:7]!='Nhà Máy']"
   ]
  },
  {
   "cell_type": "code",
   "execution_count": 38,
   "metadata": {},
   "outputs": [],
   "source": [
    "sht_baoquan = wb.sheets.add(\"KSBQ\", after=wb.sheets.count)"
   ]
  },
  {
   "cell_type": "code",
   "execution_count": 39,
   "metadata": {},
   "outputs": [],
   "source": [
    "sht_baoquan.range('a2').options(index = False).value = data_baoquan[data_baoquan[1] !='Nhà Máy SXHG']"
   ]
  },
  {
   "cell_type": "code",
   "execution_count": 40,
   "metadata": {},
   "outputs": [],
   "source": [
    "sht_xuly = wb.sheets.add(\"xu ly hang KPH\", after=wb.sheets.count)"
   ]
  },
  {
   "cell_type": "code",
   "execution_count": 41,
   "metadata": {},
   "outputs": [],
   "source": [
    "sht_xuly.range(\"A2\").options(pd.DataFrame, index = False).value = data_xuly.loc[data_xuly['nha_may']!='Nhà Máy SXHG']        #'Nhà Máy SXHG'\n",
    "# df[(df.T != 0).any()]"
   ]
  },
  {
   "cell_type": "code",
   "execution_count": 42,
   "metadata": {},
   "outputs": [],
   "source": [
    "sht_godau = wb.sheets.add(\"KSCL_godau\",after=wb.sheets.count)"
   ]
  },
  {
   "cell_type": "code",
   "execution_count": 43,
   "metadata": {},
   "outputs": [],
   "source": [
    "sht_godau.range(\"A2\").options(pd.DataFrame, index = False).value = data_godau[data_godau[1]!= 'Ngày kiểm soát']"
   ]
  },
  {
   "cell_type": "code",
   "execution_count": 44,
   "metadata": {},
   "outputs": [],
   "source": [
    "sht_khp_khac = wb.sheets.add(\"KPH Khac\", after=wb.sheets.count)"
   ]
  },
  {
   "cell_type": "code",
   "execution_count": 45,
   "metadata": {},
   "outputs": [],
   "source": [
    "sht_khp_khac.range(\"A2\").options(pd.DataFrame, index = False).value = data_kph_khac[data_kph_khac[0]!= 'TT']"
   ]
  },
  {
   "cell_type": "code",
   "execution_count": 46,
   "metadata": {},
   "outputs": [],
   "source": [
    "sht_amdo = wb.sheets.add(\"Am_do\",after=wb.sheets.count)\n",
    "sht_amdo.range('A2').options(pd.DataFrame, index = False).value = data_amdo[data_amdo[0]!='STT'].drop(columns=data_amdo.columns[11:])"
   ]
  },
  {
   "cell_type": "code",
   "execution_count": 47,
   "metadata": {},
   "outputs": [],
   "source": [
    "sht_chieucao = wb.sheets.add(\"Chieu_cao_LL\", after=wb.sheets.count)\n",
    "sht_chieucao.range('A2').options(pd.DataFrame, index = False).value = data_chieucao[data_chieucao[0]!='TT']"
   ]
  },
  {
   "cell_type": "code",
   "execution_count": 48,
   "metadata": {},
   "outputs": [],
   "source": [
    "sht_nhietdo = wb.sheets.add(\"nhiet_do\", after=wb.sheets.count)\n",
    "sht_nhietdo.range('A2').options(pd.DataFrame, index = False).value = data_nhietdo_kph[data_nhietdo_kph[0]!=\"TT\"]"
   ]
  },
  {
   "cell_type": "code",
   "execution_count": 49,
   "metadata": {},
   "outputs": [],
   "source": [
    "sht_3thang = wb.sheets.add(\"3_Thang\", after=wb.sheets.count)\n",
    "sht_3thang.range('A2').options(pd.DataFrame, index = False).value = data_3thang[data_3thang[0]!='TT']"
   ]
  },
  {
   "cell_type": "code",
   "execution_count": 50,
   "metadata": {},
   "outputs": [],
   "source": [
    "sht_chitiet = wb.sheets.add(\"Chi_tiet\", after=wb.sheets.count)\n",
    "sht_chitiet.range('A2').options(pd.DataFrame, index = False).value = data_chitiet[data_chitiet[0]!='TT']"
   ]
  },
  {
   "cell_type": "code",
   "execution_count": 51,
   "metadata": {},
   "outputs": [],
   "source": [
    "from datetime import datetime\n",
    "from pathlib import Path\n",
    "import os"
   ]
  },
  {
   "cell_type": "code",
   "execution_count": 52,
   "metadata": {},
   "outputs": [],
   "source": [
    "# week_num  = datetime.now().isocalendar().week\n",
    "month_num = datetime.strftime(datetime.now(), '%m')\n",
    "w_num= str(datetime.strftime(datetime.now(),'%V'))\n",
    "\n"
   ]
  },
  {
   "cell_type": "code",
   "execution_count": 53,
   "metadata": {},
   "outputs": [],
   "source": [
    "dk_export_file = input('day la bao cao thang hay tuan: nhap w or m')"
   ]
  },
  {
   "cell_type": "code",
   "execution_count": 54,
   "metadata": {},
   "outputs": [],
   "source": [
    "match dk_export_file:\n",
    "    case 'w':\n",
    "        book_name = 'KSCL_Tuan_'+ w_num+'.xlsx'\n",
    "    case 'm':\n",
    "        book_name = 'KSCL_Thang_'+ month_num +'.xlsx'\n",
    "    case other:\n",
    "        book_name = input(\"nhap ten file\") +'.xlsx'\n",
    "\n"
   ]
  },
  {
   "cell_type": "code",
   "execution_count": 55,
   "metadata": {},
   "outputs": [
    {
     "data": {
      "text/plain": [
       "'KSCL_Tuan_51.xlsx'"
      ]
     },
     "execution_count": 55,
     "metadata": {},
     "output_type": "execute_result"
    }
   ],
   "source": [
    "book_name"
   ]
  },
  {
   "cell_type": "code",
   "execution_count": 56,
   "metadata": {},
   "outputs": [
    {
     "name": "stdout",
     "output_type": "stream",
     "text": [
      "d:\\1 Workbench\\0 Code_bc tuan\\out_put\\KSCL_Tuan_51.xlsx\n"
     ]
    }
   ],
   "source": [
    "my_path = os.path.join(Path.cwd() /\"out_put\", book_name)\n",
    "print(my_path)"
   ]
  },
  {
   "cell_type": "code",
   "execution_count": 57,
   "metadata": {},
   "outputs": [],
   "source": [
    "wb.save(my_path)"
   ]
  },
  {
   "cell_type": "code",
   "execution_count": null,
   "metadata": {},
   "outputs": [],
   "source": []
  }
 ],
 "metadata": {
  "kernelspec": {
   "display_name": "Python 3",
   "language": "python",
   "name": "python3"
  },
  "language_info": {
   "codemirror_mode": {
    "name": "ipython",
    "version": 3
   },
   "file_extension": ".py",
   "mimetype": "text/x-python",
   "name": "python",
   "nbconvert_exporter": "python",
   "pygments_lexer": "ipython3",
   "version": "3.11.4"
  },
  "orig_nbformat": 4,
  "vscode": {
   "interpreter": {
    "hash": "0b5e5dd6b81d7c985918c12477995f1720d2e7c4b354bcffdd042671b744ebf9"
   }
  }
 },
 "nbformat": 4,
 "nbformat_minor": 2
}
