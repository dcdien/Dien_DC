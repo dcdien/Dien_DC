{
 "cells": [
  {
   "cell_type": "code",
   "execution_count": 234,
   "metadata": {},
   "outputs": [],
   "source": [
    "import pandas as pd\n",
    "from pathlib import Path\n",
    "import os\n",
    "import glob\n",
    "import xlwings as xw\n"
   ]
  },
  {
   "cell_type": "code",
   "execution_count": 235,
   "metadata": {},
   "outputs": [],
   "source": [
    "duong_dan = Path(input('nhap duong dan toi folder chua file bao cao che bien'))\n",
    "# duong_dan = Path(ddd)"
   ]
  },
  {
   "cell_type": "code",
   "execution_count": 236,
   "metadata": {},
   "outputs": [],
   "source": [
    "ex_file = glob.glob(os.path.join(duong_dan,'*.xls*'))"
   ]
  },
  {
   "cell_type": "code",
   "execution_count": 237,
   "metadata": {},
   "outputs": [],
   "source": [
    "df_say = []\n",
    "df_chebien = []\n",
    "df_baoquan = []\n",
    "df_xuly = []\n",
    "df_godau = []\n",
    "df_kphop = []\n",
    "df_amdo = []\n",
    "df_chieucao = []\n",
    "df_nhietdo_kph = []\n",
    "df_3thang = []\n",
    "df_chitietxuly = []"
   ]
  },
  {
   "cell_type": "code",
   "execution_count": 238,
   "metadata": {},
   "outputs": [
    {
     "name": "stdout",
     "output_type": "stream",
     "text": [
      "3\n",
      "3\n",
      "3\n"
     ]
    }
   ],
   "source": [
    "for f in ex_file:\n",
    "    if f.split(\"\\\\\")[-1] != \"data_out_put.xlsx\":\n",
    "        df1 = pd.read_excel(f, sheet_name='KSCL SAY', skiprows=7, header=None)\n",
    "        thang = f.split('\\\\')[-1].split(' ')[0]\n",
    "        print(thang)"
   ]
  },
  {
   "cell_type": "code",
   "execution_count": 239,
   "metadata": {},
   "outputs": [],
   "source": [
    "# lap qua tat ca cac file excel\n",
    "for f in ex_file:\n",
    "    if f.split(\"\\\\\")[-1] != \"data_out_put.xlsx\":\n",
    "        df1 = pd.read_excel(f, sheet_name='KSCL SAY', skiprows=7, header=None)\n",
    "        df1['thang'] = f.split('\\\\')[-1].split(' ')[-1].split('.')[0]\n",
    "        df_say.append(df1)\n",
    "        #Toi kiem soat che bien\n",
    "        df2 = pd.read_excel(f, sheet_name='KSCLCB', skiprows=7, header=None,usecols=('A:P'))\n",
    "        df2['thang'] = f.split('\\\\')[-1].split(' ')[-1].split('.')[0]\n",
    "        df_chebien.append(df2)\n",
    "        # Toi kiem soat bao quan\n",
    "        df3 = pd.read_excel(f, sheet_name='KSCLBQ', skiprows=8, header=None, usecols=(\"a:p\"))\n",
    "        df3['thang'] = f.split('\\\\')[-1].split(' ')[-1].split('.')[0]\n",
    "        df_baoquan.append(df3)\n",
    "        # Xử lý hàng không phù hợp\n",
    "        df4 = pd.read_excel(f, sheet_name='XL HKPH', header=None)\n",
    "        df4['thang'] = f.split('\\\\')[-1].split(' ')[-1].split('.')[0]\n",
    "        df_xuly.append(df4)\n",
    "        # Nhà máy Gò Dầu\n",
    "        df5 = pd.read_excel(f, sheet_name='KSCL NMGD', skiprows=7, header=None)\n",
    "        df5['thang'] = f.split('\\\\')[-1].split(' ')[-1].split('.')[0]\n",
    "        df_godau.append(df5)\n",
    "    \n",
    "    data_say = pd.concat(df_say,axis=0, ignore_index=True)\n",
    "    data_chebien = pd.concat(df_chebien,axis=0, ignore_index=True)\n",
    "    data_baoquan = pd.concat(df_baoquan,axis=0, ignore_index=True)\n",
    "    data_xuly = pd.concat(df_xuly,axis=0, ignore_index=True)\n",
    "    data_godau = pd.concat(df_godau, axis=0, ignore_index=True)"
   ]
  },
  {
   "cell_type": "code",
   "execution_count": 240,
   "metadata": {},
   "outputs": [],
   "source": [
    "data_say.dropna(subset=[1, 2], inplace=True)"
   ]
  },
  {
   "cell_type": "code",
   "execution_count": 241,
   "metadata": {},
   "outputs": [],
   "source": [
    "ten_say = ['stt','nha_may','ve_sinh','vs_kdat','tl1','nhiet_do','nd_kph','tl2','ccll','tl3','nhiet_ke','tl4','chuong','tl5','note','thang']"
   ]
  },
  {
   "cell_type": "code",
   "execution_count": 242,
   "metadata": {},
   "outputs": [],
   "source": [
    "data_say.columns = ten_say"
   ]
  },
  {
   "cell_type": "code",
   "execution_count": 243,
   "metadata": {},
   "outputs": [],
   "source": [
    "data_say = data_say.loc[data_say['nha_may']!='Nhà Máy SXHG']"
   ]
  },
  {
   "cell_type": "code",
   "execution_count": 244,
   "metadata": {},
   "outputs": [],
   "source": [
    "say_gr = data_say.groupby(['stt','nha_may']).agg({\"ve_sinh\":\"sum\",\"ve_sinh\":\"sum\",\\\n",
    "\"tl1\":\"mean\",\"nhiet_do\":\"sum\",\"nd_kph\":\"sum\",\"tl2\":\"mean\",\"ccll\":\"sum\",\"tl3\":\"mean\",\"nhiet_ke\":\"sum\",\\\n",
    "\"tl4\":\"mean\",\"chuong\":\"sum\",\"tl5\":\"mean\",'thang': lambda x: '\\n'.join(x)})"
   ]
  },
  {
   "cell_type": "code",
   "execution_count": 245,
   "metadata": {},
   "outputs": [],
   "source": [
    "data_chebien.dropna(subset=[1,2], inplace=True)"
   ]
  },
  {
   "cell_type": "code",
   "execution_count": 246,
   "metadata": {},
   "outputs": [
    {
     "data": {
      "text/plain": [
       "17"
      ]
     },
     "execution_count": 246,
     "metadata": {},
     "output_type": "execute_result"
    }
   ],
   "source": [
    "ten_cb = ['stt','nha_may','so_lo','vesinh_kdat','tl1','baobi_kdat','tl2','dongbao_kdat','tl3','can','can_kdat',\\\n",
    "'tl4','dong_goi','dong_goi_kdat','tl5','note','thang']\n",
    "len(ten_cb)"
   ]
  },
  {
   "cell_type": "code",
   "execution_count": 247,
   "metadata": {},
   "outputs": [],
   "source": [
    "data_chebien.columns = ten_cb"
   ]
  },
  {
   "cell_type": "code",
   "execution_count": 248,
   "metadata": {},
   "outputs": [],
   "source": [
    "data_chebien = data_chebien.loc[data_chebien['nha_may']!='Nhà Máy SXHG ']"
   ]
  },
  {
   "cell_type": "code",
   "execution_count": 249,
   "metadata": {},
   "outputs": [],
   "source": [
    "chebien_gr = data_chebien.groupby(['stt','nha_may']).agg({\"so_lo\":\"sum\",\"vesinh_kdat\":\"sum\",\"tl1\":\"sum\",\\\n",
    "    \"baobi_kdat\":\"sum\",\"tl2\":\"sum\",\"dongbao_kdat\":\"sum\",\"tl3\":\"sum\",\"can\":\"sum\",\"can_kdat\":\"sum\",\"tl4\":\"sum\",\\\n",
    "        \"dong_goi\":\"sum\",\"dong_goi_kdat\":\"sum\",\"tl5\":\"sum\",'thang': lambda x: \"\\n\".join(x)})\n",
    "#  \"so_lo\":\"sum\",\"vesinh_kdat\":\"sum\",\"tl1\":\"sum\",\"baobi_kdat\":\"sum\",\"tl2\":\"sum\",\"dongbao_kdat\":\"sum\",\"tl3\":\"sum\",\"can\":\"sum\",\"can_kdat\":\"sum\",\"tl4\":\"sum\",\"dong_goi\":\"sum\",\"dong_goi_kdat\":\"sum\",\"tl5\":\"sum\""
   ]
  },
  {
   "cell_type": "code",
   "execution_count": 250,
   "metadata": {},
   "outputs": [],
   "source": [
    "chebien_gr.iloc[:, 0:-2] =chebien_gr.iloc[:, 0:-2].apply(pd.to_numeric, errors ='coerce')"
   ]
  },
  {
   "cell_type": "code",
   "execution_count": 251,
   "metadata": {},
   "outputs": [],
   "source": [
    "# chebien_gr.iloc[:,] = chebien_gr.apply(pd.to_numeric, errors ='coerce').fillna(0)"
   ]
  },
  {
   "cell_type": "code",
   "execution_count": 252,
   "metadata": {},
   "outputs": [],
   "source": [
    "data_baoquan.dropna(subset=[1,2], inplace=True)"
   ]
  },
  {
   "cell_type": "code",
   "execution_count": 253,
   "metadata": {},
   "outputs": [],
   "source": [
    "data_baoquan.columns = [\"stt\",\"nha_may\",\"so_lo\",\"sap_xep\",\"bang_tt\",\"ve_sinh\",\"nhat_ky\",\"dinh_ky\",\"mot\",\"am_do\",\"tlnm\",\"BTP\",\"ba_thang\",\"TP\",\"sau_thang\",\"note\"\n",
    ",'thang']"
   ]
  },
  {
   "cell_type": "code",
   "execution_count": 254,
   "metadata": {},
   "outputs": [],
   "source": [
    "data_baoquan = data_baoquan.loc[data_baoquan['nha_may']!='Nhà Máy SXHG']"
   ]
  },
  {
   "cell_type": "code",
   "execution_count": 255,
   "metadata": {},
   "outputs": [],
   "source": [
    "data_baoquan.iloc[:,2:] = data_baoquan.iloc[:,2:].apply(pd.to_numeric, errors ='coerce')"
   ]
  },
  {
   "cell_type": "code",
   "execution_count": 256,
   "metadata": {},
   "outputs": [],
   "source": [
    "baoquan_gr = data_baoquan.groupby(['stt','nha_may']).agg({\"so_lo\":\"sum\",\"sap_xep\":\"sum\",\\\n",
    "        \"bang_tt\":\"sum\",\"ve_sinh\":\"count\",\"nhat_ky\":\"count\",\"dinh_ky\":\"sum\",\"mot\":\"sum\",\"am_do\":\"sum\",\\\n",
    "            \"tlnm\":\"sum\",\"BTP\":\"sum\",\"ba_thang\":\"sum\",\"TP\":\"sum\",\"sau_thang\":\"sum\"})\n",
    "#'thang': lambda x: \"\\n\".join(str(x) for x in data_baoquan['thang'])"
   ]
  },
  {
   "cell_type": "code",
   "execution_count": 257,
   "metadata": {},
   "outputs": [],
   "source": [
    "baoquan_gr.loc[:,['ve_sinh','nhat_ky']] = 'Đạt'"
   ]
  },
  {
   "cell_type": "code",
   "execution_count": 258,
   "metadata": {},
   "outputs": [],
   "source": [
    "data_xuly.dropna(subset=data_xuly.columns[2:-2],how='all', inplace=True)\n",
    "data_xuly.dropna(subset=data_xuly.columns[1], inplace=True)"
   ]
  },
  {
   "cell_type": "code",
   "execution_count": 259,
   "metadata": {},
   "outputs": [],
   "source": [
    "data_xuly.columns= [\"stt\",\"nha_may\",\"tron_lo\",\"kl_tron\",\"kq_tron\",\"mot\",\"kl_mot\",\"kq_mot\",\\\n",
    "    \"thuong_pham\",\"kl_tpham\",\"nguyen_nhan\",\"ha_cap\",\"kl_ha_cap\",\"nn_ha\",\"nang_date\",\"kl_nangdate\",\\\n",
    "        \"che_bien\",\"kl_chebien\",\"nn_cb\",\"note\",\"thang\"]"
   ]
  },
  {
   "cell_type": "code",
   "execution_count": 260,
   "metadata": {},
   "outputs": [],
   "source": []
  },
  {
   "cell_type": "code",
   "execution_count": 261,
   "metadata": {},
   "outputs": [],
   "source": [
    "xuly_g = data_xuly.groupby(['stt','nha_may']).agg({'tron_lo':'sum','kl_tron':'sum','kq_tron':'count','mot':'sum',\\\n",
    "                                                   'kl_mot':'sum','kq_mot':'count','thuong_pham':'sum','kl_tpham':'sum','nguyen_nhan':'count',\\\n",
    "                                                    \"ha_cap\":'sum',\"kl_ha_cap\":'sum',\"nn_ha\":'count',\"nang_date\":'sum',\"kl_nangdate\":'sum',\\\n",
    "        \"che_bien\":'sum','kl_chebien':'sum',\"nn_cb\":'count',\"note\":\"count\",\"thang\":lambda x: \"\\n\".join(x)})"
   ]
  },
  {
   "cell_type": "code",
   "execution_count": 262,
   "metadata": {},
   "outputs": [],
   "source": [
    "xuly_g['thang'] = xuly_g['thang'].astype(str)"
   ]
  },
  {
   "cell_type": "code",
   "execution_count": 263,
   "metadata": {},
   "outputs": [],
   "source": [
    "data_godau.dropna(subset=data_godau.columns[1], inplace=True)"
   ]
  },
  {
   "cell_type": "code",
   "execution_count": 264,
   "metadata": {},
   "outputs": [],
   "source": [
    "# lap qua tat ca cac file excel\n",
    "for f in ex_file:\n",
    "    if f.split(\"\\\\\")[-1] != \"data_out_put.xlsx\":\n",
    "        # Khong phu hop khac\n",
    "        df6 = pd.read_excel(f, sheet_name='KPH KHAC',skiprows=6, header=None)\n",
    "        df6['thang'] = f.split('\\\\')[-1].split(' ')[-1].split('.')[0]\n",
    "        df_kphop.append(df6)\n",
    "        #Kiem soat am do sau say\n",
    "        df7 = pd.read_excel(f, sheet_name='KS AM DO SAU SAY', skiprows=8, header=None, usecols='A:N')\n",
    "        df7['thang'] = f.split('\\\\')[-1].split(' ')[-1].split('.')[0]\n",
    "        df_amdo.append(df7)\n",
    "        # Kiem soat chieu cao lop lieu khong phu hop\n",
    "        df8 = pd.read_excel(f, sheet_name= 7, skiprows=5, header=None)\n",
    "        df8['thang'] = f.split('\\\\')[-1].split(' ')[-1].split('.')[0]\n",
    "        df_chieucao.append(df8)\n",
    "        # Nhiet do say khong phu hop\n",
    "        df9 = pd.read_excel(f, sheet_name='NHIỆT ĐỘ SẤY', header=None)\n",
    "        df9['thang'] = f.split(\"\\\\\")[-1].split(' ')[-1].split('.')[0]\n",
    "        df_nhietdo_kph.append(df9)\n",
    "        # 3 thang chua dao lo\n",
    "        df10 = pd.read_excel(f, sheet_name='3T CHUA CB+6T CHUA DAO LO ', skiprows=6, header=None)\n",
    "        df10['thang'] = f.split(\"\\\\\")[-1].split(' ')[-1].split('.')[0]\n",
    "        df_3thang.append(df10)\n",
    "        # Nhà máy Gò Dầu\n",
    "        df11 = pd.read_excel(f, sheet_name='CHI TIET XU LY HKPH', skiprows=6, header=None)\n",
    "        df11['thang'] = f.split(\"\\\\\")[-1].split(' ')[-1].split('.')[0]\n",
    "        df_chitietxuly.append(df11)\n",
    "        \n",
    "\n",
    "    data_kph_khac = pd.concat(df_kphop,axis=0, ignore_index=True)\n",
    "    data_amdo = pd.concat(df_amdo,axis=0, ignore_index=True)\n",
    "    data_chieucao = pd.concat(df_chieucao,axis=0, ignore_index=True)\n",
    "    data_nhietdo_kph = pd.concat(df_nhietdo_kph,axis=0, ignore_index=True)\n",
    "    data_3thang = pd.concat(df_3thang, axis=0, ignore_index=True)\n",
    "    data_chitiet = pd.concat(df_chitietxuly, axis=0, ignore_index=True)"
   ]
  },
  {
   "cell_type": "code",
   "execution_count": 265,
   "metadata": {},
   "outputs": [],
   "source": [
    "data_kph_khac.dropna(subset=data_kph_khac.columns[3], inplace=True)"
   ]
  },
  {
   "cell_type": "code",
   "execution_count": 266,
   "metadata": {},
   "outputs": [],
   "source": [
    "data_amdo.dropna(subset=data_amdo.columns[4], inplace=True)"
   ]
  },
  {
   "cell_type": "code",
   "execution_count": 267,
   "metadata": {},
   "outputs": [],
   "source": [
    "data_chieucao.dropna(subset=data_chieucao.columns[3], inplace=True)"
   ]
  },
  {
   "cell_type": "code",
   "execution_count": 268,
   "metadata": {},
   "outputs": [],
   "source": [
    "data_nhietdo_kph.dropna(subset=data_nhietdo_kph.columns[3], inplace=True)"
   ]
  },
  {
   "cell_type": "code",
   "execution_count": 269,
   "metadata": {},
   "outputs": [],
   "source": [
    "data_3thang.dropna(subset=data_3thang.columns[3], inplace=True)"
   ]
  },
  {
   "cell_type": "code",
   "execution_count": 270,
   "metadata": {},
   "outputs": [],
   "source": [
    "data_chitiet.dropna(subset=data_chitiet.columns[3], inplace=True)"
   ]
  },
  {
   "cell_type": "code",
   "execution_count": 271,
   "metadata": {},
   "outputs": [],
   "source": [
    "wb= xw.Book()\n"
   ]
  },
  {
   "cell_type": "code",
   "execution_count": 272,
   "metadata": {},
   "outputs": [],
   "source": [
    "sht_say = wb.sheets.active\n",
    "sht_say.name = \"KSCL SAY\""
   ]
  },
  {
   "cell_type": "code",
   "execution_count": 273,
   "metadata": {},
   "outputs": [],
   "source": [
    "# lr = sht_say.range('B' + str(wb.sheets(\"KSCL SAY\").cells.last_cell.row)).end('up').row"
   ]
  },
  {
   "cell_type": "code",
   "execution_count": 274,
   "metadata": {},
   "outputs": [],
   "source": [
    "sht_say.range('A2').value = say_gr"
   ]
  },
  {
   "cell_type": "code",
   "execution_count": 275,
   "metadata": {},
   "outputs": [],
   "source": [
    "sht_chebien = wb.sheets.add('KSCL_chebien',after=wb.sheets.count)\n",
    "sht_chebien.range('A2').value = chebien_gr"
   ]
  },
  {
   "cell_type": "code",
   "execution_count": 276,
   "metadata": {},
   "outputs": [],
   "source": [
    "sht_baoquan = wb.sheets.add(\"KSBQ\", after=wb.sheets.count)"
   ]
  },
  {
   "cell_type": "code",
   "execution_count": 277,
   "metadata": {},
   "outputs": [],
   "source": [
    "sht_baoquan.range('a2').value = baoquan_gr"
   ]
  },
  {
   "cell_type": "code",
   "execution_count": 278,
   "metadata": {},
   "outputs": [],
   "source": [
    "sht_xuly = wb.sheets.add(\"xu ly hang KPH\", after=wb.sheets.count)"
   ]
  },
  {
   "cell_type": "code",
   "execution_count": 279,
   "metadata": {},
   "outputs": [],
   "source": [
    "sht_xuly.range(\"A2\").value = xuly_g\n",
    "# df[(df.T != 0).any()]"
   ]
  },
  {
   "cell_type": "code",
   "execution_count": 280,
   "metadata": {},
   "outputs": [],
   "source": [
    "sht_godau = wb.sheets.add(\"KSCL_godau\",after=wb.sheets.count)"
   ]
  },
  {
   "cell_type": "code",
   "execution_count": 281,
   "metadata": {},
   "outputs": [],
   "source": [
    "sht_godau.range(\"A2\").options(pd.DataFrame, index = False).value = data_godau[data_godau[1]!= 'Ngày kiểm soát']"
   ]
  },
  {
   "cell_type": "code",
   "execution_count": 282,
   "metadata": {},
   "outputs": [],
   "source": [
    "sht_khp_khac = wb.sheets.add(\"KPH Khac\", after=wb.sheets.count)"
   ]
  },
  {
   "cell_type": "code",
   "execution_count": 283,
   "metadata": {},
   "outputs": [],
   "source": [
    "sht_khp_khac.range(\"A2\").options(pd.DataFrame, index = False).value = data_kph_khac[data_kph_khac[0]!= 'TT']"
   ]
  },
  {
   "cell_type": "code",
   "execution_count": 284,
   "metadata": {},
   "outputs": [],
   "source": [
    "sht_amdo = wb.sheets.add(\"Am_do\",after=wb.sheets.count)\n",
    "sht_amdo.range('A2').options(pd.DataFrame, index = False).value = data_amdo[data_amdo[0]!='STT'].drop(columns=data_amdo.columns[11:])"
   ]
  },
  {
   "cell_type": "code",
   "execution_count": 285,
   "metadata": {},
   "outputs": [],
   "source": [
    "sht_chieucao = wb.sheets.add(\"Chieu_cao_LL\", after=wb.sheets.count)\n",
    "sht_chieucao.range('A2').options(pd.DataFrame, index = False).value = data_chieucao[data_chieucao[0]!='TT']"
   ]
  },
  {
   "cell_type": "code",
   "execution_count": 286,
   "metadata": {},
   "outputs": [],
   "source": [
    "sht_nhietdo = wb.sheets.add(\"nhiet_do\", after=wb.sheets.count)\n",
    "sht_nhietdo.range('A2').options(pd.DataFrame, index = False).value = data_nhietdo_kph[data_nhietdo_kph[0]!=\"TT\"]"
   ]
  },
  {
   "cell_type": "code",
   "execution_count": 287,
   "metadata": {},
   "outputs": [],
   "source": [
    "sht_3thang = wb.sheets.add(\"3_Thang\", after=wb.sheets.count)\n",
    "sht_3thang.range('A2').options(pd.DataFrame, index = False).value = data_3thang[data_3thang[0]!='TT']"
   ]
  },
  {
   "cell_type": "code",
   "execution_count": 288,
   "metadata": {},
   "outputs": [],
   "source": [
    "sht_chitiet = wb.sheets.add(\"Chi_tiet\", after=wb.sheets.count)\n",
    "sht_chitiet.range('A2').options(pd.DataFrame, index = False).value = data_chitiet[data_chitiet[0]!='TT']"
   ]
  },
  {
   "cell_type": "code",
   "execution_count": 289,
   "metadata": {},
   "outputs": [],
   "source": [
    "# wb.save()"
   ]
  },
  {
   "cell_type": "code",
   "execution_count": null,
   "metadata": {},
   "outputs": [],
   "source": []
  }
 ],
 "metadata": {
  "kernelspec": {
   "display_name": "Python 3",
   "language": "python",
   "name": "python3"
  },
  "language_info": {
   "codemirror_mode": {
    "name": "ipython",
    "version": 3
   },
   "file_extension": ".py",
   "mimetype": "text/x-python",
   "name": "python",
   "nbconvert_exporter": "python",
   "pygments_lexer": "ipython3",
   "version": "3.11.3"
  },
  "orig_nbformat": 4,
  "vscode": {
   "interpreter": {
    "hash": "0b5e5dd6b81d7c985918c12477995f1720d2e7c4b354bcffdd042671b744ebf9"
   }
  }
 },
 "nbformat": 4,
 "nbformat_minor": 2
}
